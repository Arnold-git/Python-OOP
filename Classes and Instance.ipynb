{
 "cells": [
  {
   "cell_type": "markdown",
   "metadata": {},
   "source": [
    "`classes` allow us to logically regroup our data and functions in a way that is easy to reuse and built upon if need be\n",
    "\n",
    "`class` is simply a blueprint for creating instances "
   ]
  },
  {
   "cell_type": "code",
   "execution_count": 8,
   "metadata": {},
   "outputs": [
    {
     "name": "stdout",
     "output_type": "stream",
     "text": [
      "<__main__.Employee object at 0x00000031FB5125F8>\n",
      "<__main__.Employee object at 0x00000031FB5125C0>\n"
     ]
    }
   ],
   "source": [
    "class Employee:\n",
    "    pass\n",
    "\n",
    "emp_1 = Employee() #instance of employee class\n",
    "emp_2 = Employee() #instance of employee class\n",
    "\n",
    "print(emp_1)\n",
    "print(emp_2)"
   ]
  },
  {
   "cell_type": "code",
   "execution_count": 9,
   "metadata": {},
   "outputs": [
    {
     "name": "stdout",
     "output_type": "stream",
     "text": [
      "arnold.ighiwyisi@company.com\n",
      "Test.User@company.com\n"
     ]
    }
   ],
   "source": [
    "#manully create instance variable for each instance\n",
    "\n",
    "emp_1.first = \"Arnold\"\n",
    "emp_1.last = \"Ighiwiyisi\"\n",
    "emp_1.email = \"arnold.ighiwyisi@company.com\"\n",
    "emp_1.pay = 50000\n",
    "\n",
    "\n",
    "emp_2.first = \"Test\"\n",
    "emp_2.last = \"User\"\n",
    "emp_2.email = \"Test.User@company.com\"\n",
    "emp_2.pay = 60000\n",
    "\n",
    "print(emp_1.email)\n",
    "print(emp_2.email)\n"
   ]
  },
  {
   "cell_type": "code",
   "execution_count": 14,
   "metadata": {},
   "outputs": [
    {
     "name": "stdout",
     "output_type": "stream",
     "text": [
      "Arnold.Ighiwiyisi@company.com Arnold\n",
      "Efosa.Osagie@company.com\n"
     ]
    }
   ],
   "source": [
    "# automatically create instance variable for each instance\n",
    "\n",
    "class Employee:\n",
    "    def __init__(self, first, last, pay):\n",
    "        self.first = first\n",
    "        self.last = last\n",
    "        self.pay = pay\n",
    "        self.email = first + \".\" + last + \"@company.com\"\n",
    "\n",
    "emp_1 = Employee(\"Arnold\", \"Ighiwiyisi\", 50000)\n",
    "emp_2 = Employee(\"Efosa\", \"Osagie\", 60000)\n",
    "\n",
    "print(emp_1.email, emp_1.first)\n",
    "print(emp_2.email)"
   ]
  },
  {
   "cell_type": "code",
   "execution_count": 18,
   "metadata": {},
   "outputs": [
    {
     "name": "stdout",
     "output_type": "stream",
     "text": [
      "Arnold.Ighiwiyisi@company.com Arnold\n",
      "Efosa.Osagie@company.com\n",
      "Efosa Osagie\n"
     ]
    }
   ],
   "source": [
    "\n",
    "class Employee:\n",
    "    def __init__(self, first, last, pay): #self ==> is the instance of the class Employee\n",
    "        self.first = first\n",
    "        self.last = last\n",
    "        self.pay = pay\n",
    "        self.email = first + \".\" + last + \"@company.com\"\n",
    "        \n",
    "    def fullname(self): # a method within a class\n",
    "        return \"{} {}\".format(self.first, self.last)\n",
    "\n",
    "emp_1 = Employee(\"Arnold\", \"Ighiwiyisi\", 50000)\n",
    "emp_2 = Employee(\"Efosa\", \"Osagie\", 60000)\n",
    "\n",
    "print(emp_1.email, emp_1.first)\n",
    "print(emp_2.email)\n",
    "print(emp_2.fullname())"
   ]
  },
  {
   "cell_type": "code",
   "execution_count": null,
   "metadata": {},
   "outputs": [],
   "source": [
    "\n",
    "\n",
    "class Employee:\n",
    "    def __init__(self, first, last, pay): #self ==> is the instance of the class Employee\n",
    "        self.first = first\n",
    "        self.last = last\n",
    "        self.pay = pay\n",
    "        self.email = first + \".\" + last + \"@company.com\"\n",
    "        \n",
    "    def fullname(self): # a method within a class\n",
    "        return \"{} {}\".format(self.first, self.last)\n",
    "    \n",
    "   \n",
    "\n",
    "emp_1 = Employee(\"Arnold\", \"Ighiwiyisi\", 50000)\n",
    "emp_2 = Employee(\"Efosa\", \"Osagie\", 60000)\n",
    "\n",
    "print(emp_1.email, emp_1.first)\n",
    "print(emp_2.email)\n",
    "print(emp_2.fullname())"
   ]
  }
 ],
 "metadata": {
  "kernelspec": {
   "display_name": "Python 3",
   "language": "python",
   "name": "python3"
  },
  "language_info": {
   "codemirror_mode": {
    "name": "ipython",
    "version": 3
   },
   "file_extension": ".py",
   "mimetype": "text/x-python",
   "name": "python",
   "nbconvert_exporter": "python",
   "pygments_lexer": "ipython3",
   "version": "3.7.3"
  }
 },
 "nbformat": 4,
 "nbformat_minor": 4
}
